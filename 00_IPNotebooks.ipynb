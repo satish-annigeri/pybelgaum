{
 "metadata": {
  "name": "",
  "signature": "sha256:a4a7a373f838a0b9d9abc01f469ca986e06127108b3f801799e10244854ae27c"
 },
 "nbformat": 3,
 "nbformat_minor": 0,
 "worksheets": [
  {
   "cells": [
    {
     "cell_type": "markdown",
     "metadata": {},
     "source": [
      "# IPython Notebooks\n",
      "\n",
      "## What are IPython Notebooks?\n",
      "\n",
      "* IPython Notebooks are browser based files\n",
      "* They contain Python code and output from code \n",
      "* They can contain documentation written in Markdown amrkup as well as **mathematical equations** typeset in $\\LaTeX{}$\n",
      "* They can contain rich media - images, video, other web pages\n",
      "\n",
      "## Cells\n",
      "* An IPython Notebook consists of **cells**\n",
      "* Cells can be of different types\n",
      "  * **Markdown** - documentation with embedded $\\LaTeX{}$ equations\n",
      "  * **Code** - Python code\n",
      "  * **Slide** - HTML presentation slides\n",
      "\n",
      "## $\\LaTeX{}$ in Markdown\n",
      "* IPython Notebooks use **MathJax** Javascript library to render $\\LaTeX$ equations\n",
      "* MathJax Javascript library is downloaded from the Internet once per session\n",
      "* If Internet connection is unavailable, $\\LaTeX$ equations will not be rendered\n",
      "* It is possible to install a local copy of MathJax so that $\\LaTeX$ equations can be rendered without an Internet connection\n",
      "\n",
      "With your machine connected to the Internet, open IPython console and at the IPython prompt, type the following statements\n",
      "\n",
      "    from IPython.external.mathjax import install_mathjax\n",
      "    install_mathjax()\n",
      "\n",
      "Wait for MathJax to be downloaded and installed. Now you have a local copy of MathJax and $\\LaTeX$ equations will be rendered even when you are not connected to the Internet\n",
      "\n",
      "## Converting IPython Notebooks to Other Formats\n",
      "\n",
      "IPython Notebooks are live, that is code can be changed and executed to see the change to the output. Notebooks can be converted to other formats, but the Notebook is now static, that is, code can no longer be changed and executed to see the changed output.\n",
      "\n",
      "Following output formats are supported:\n",
      "* HTML\n",
      "* $\\LaTeX$ if **`latex`** is installed\n",
      "* PDF if **`pdflatex`** is installed\n",
      "\n",
      "Commands to convert Notebooks to other formats are:\n",
      "\n",
      "* Convert to HTML: **`ipython nbconvert notebook.ipynb`**\n",
      "* Convert to $\\LaTeX$: **`ipython nbconvert notebook.ipynb --to latex`**\n",
      "* Convert to PDF: **`ipython nbconvert notebook.ipynb --to latex --post PDF`**\n",
      "* Convert to HTML slides and start slideshow: **`ipython notebook notebook.ipynb --to slides --post serve`**\n",
      "\n",
      "## Starting the Notebook Server\n",
      "\n",
      "* IPython Notebooks have the filename extension **`.ipynb`**\n",
      "* Choose a directory where you want to put your IPython Notebooks\n",
      "* Change over to the chosen directory and type the command at the command prompt\n",
      "\n",
      "    ipython notebook\n",
      "    \n",
      "* This will start up the IPython Notebook server, which is a web server listening usually on **port 8888**\n",
      "* Your default browser will be opened and will display the IPython Notebook dashboard\n",
      "* Dashboard lists all Notebook files, if any, in the directory from where the Notebook server is started\n",
      "* Dashboard will also show any directories that may be present in the Notebook directory\n",
      "\n",
      "## Working with Notebooks\n",
      "\n",
      "* You can create new Notebooks. New Notebooks are assigned a name starting with **Untitledx.ipynb**\n",
      "* You can delete existing Notebooks from the dashboard\n",
      "* You can rename an opened Notebook\n",
      "* You can shutdown a running Notebook from the dashboard\n",
      "\n",
      "## Quick Introduction to Markdown\n",
      "\n",
      "### Headings\n",
      "\n",
      "* Level 1 headings are created with the markup `# Level 1 Heading`\n",
      "* Two `##` indicate a Level 2 heading, Three `###` indicate a Level 3 heading and so on\n",
      "\n",
      "### Bold, Italic\n",
      "\n",
      "* Anything marked up as `**Bold**` will show up as **Bold**\n",
      "* Anything marked up as `*Italic*` shows up as *Italic*\n",
      "* `monospaced` is typeset by enclosing monospaced within two backquotes, namely `\n",
      "\n",
      "### $\\LaTeX$ Equations\n",
      "* Inline equations use `$` to demarcate a $\\LaTeX$ equation. For example `$f(x) = a^2 x + b x + x$` will be typeset as $f(x) = a^2 x + b x + x$\n",
      "* Displayed equations without numbers are enclosed within matching pair of `$$ f(x) = \\frac{\\sqrt{a^2 + b^2}}{2 \\sin \\theta} $$`\n",
      "\n",
      "$$ f(x) = \\frac{\\sqrt{a^2 + b^2}}{2 \\sin \\theta} $$\n",
      "\n",
      "* You can use `\\begin{equation}`\n",
      "* You can use `\\begin{align}`\n",
      "\n",
      "#### Source\n",
      "    \\begin{align} \\dot{x} & = \\sigma(y-x) \\\\ \\dot{y} & = \\rho x - y - xz \\\\ \\dot{z} & = -\\beta z + xy \\end{align}\n",
      "    \n",
      "\\begin{align} \\dot{x} & = \\sigma(y-x) \\\\ \\dot{y} & = \\rho x - y - xz \\\\ \\dot{z} & = -\\beta z + xy \\end{align}\n",
      "\n",
      "### Shutting Down Notebook Server\n",
      "\n",
      "* Save and close all Notebooks\n",
      "* Close the dashboard\n",
      "* Go to the MS DOS prompt or Terminal from where the Notebook Server was started and stop it by pressing `Ctrl+C` twice. If server does not shutdown, close the MS DOS prompt window"
     ]
    },
    {
     "cell_type": "code",
     "collapsed": false,
     "input": [
      "from IPython.display import Image\n",
      "Image(filename='python-logo.png')"
     ],
     "language": "python",
     "metadata": {},
     "outputs": [
      {
       "metadata": {},
       "output_type": "pyout",
       "png": "[encoded data removed]",
       "prompt_number": 1,
       "text": [
        "<IPython.core.display.Image at 0x7fa8001a0d90>"
       ]
      }
     ],
     "prompt_number": 1
    },
    {
     "cell_type": "markdown",
     "metadata": {},
     "source": [
      "# References\n",
      "\n",
      "* [**IPython Notebook** page](http://ipython.org/notebook.html)\n",
      "* [**IPython Notebook** Documentation](http://ipython.org/documentation.html)\n",
      "* [**Markdown** syntax](http://daringfireball.net/projects/markdown/basics)"
     ]
    },
    {
     "cell_type": "code",
     "collapsed": false,
     "input": [],
     "language": "python",
     "metadata": {},
     "outputs": []
    }
   ],
   "metadata": {}
  }
 ]
}