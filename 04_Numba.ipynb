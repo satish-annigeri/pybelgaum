{
 "metadata": {
  "name": "",
  "signature": "sha256:41f95a60776458074670da1814781c249edab02ec1ca61d2f3f855631bb06ba3"
 },
 "nbformat": 3,
 "nbformat_minor": 0,
 "worksheets": [
  {
   "cells": [
    {
     "cell_type": "markdown",
     "metadata": {},
     "source": [
      "## Numba\n",
      "\n",
      "Numba provides a Just In Time compiler to generate optimized machine code to speed up computations in Python. It uses LLVM compiler infrastructure."
     ]
    },
    {
     "cell_type": "code",
     "collapsed": false,
     "input": [
      "import numpy as np\n",
      "from numba import f8, jit\n",
      "\n",
      "def sum1d(x):\n",
      "    s = 0.0\n",
      "    for i in range(x.shape[0]):\n",
      "        s += x[i]\n",
      "    return s\n",
      "\n",
      "@jit(f8(f8[:]))\n",
      "def fast_sum1d(x):\n",
      "    s = 0.0\n",
      "    for i in range(x.shape[0]):\n",
      "        s += x[i]\n",
      "    return s\n",
      "\n",
      "x = np.linspace(0, 100, 1001)\n",
      "\n",
      "%timeit sum1d(x)\n",
      "%timeit fast_sum1d(x)"
     ],
     "language": "python",
     "metadata": {},
     "outputs": [
      {
       "output_type": "stream",
       "stream": "stdout",
       "text": [
        "1000 loops, best of 3: 206 \u00b5s per loop\n",
        "1000000 loops, best of 3: 1.29 \u00b5s per loop"
       ]
      },
      {
       "output_type": "stream",
       "stream": "stdout",
       "text": [
        "\n"
       ]
      }
     ],
     "prompt_number": 1
    },
    {
     "cell_type": "markdown",
     "metadata": {},
     "source": [
      "Let us compute the approximate value of $\\pi$ using the following sum:\n",
      "\n",
      "$$\\pi \\approx \\sqrt{6 \\sum_{k=1}^{n+1} \\frac{1}{k^2}}$$"
     ]
    },
    {
     "cell_type": "code",
     "collapsed": false,
     "input": [
      "def approx_pi(n=10000):\n",
      "    s = 0\n",
      "    for k in range(1, n+1):\n",
      "        s += 1.0 / k**2\n",
      "    return (6 * s) ** 0.5\n",
      "\n",
      "%timeit approx_pi(1000)\n",
      "%timeit approx_pi(10000)\n",
      "\n",
      "print(approx_pi(1000))\n",
      "print(approx_pi(10000))"
     ],
     "language": "python",
     "metadata": {},
     "outputs": [
      {
       "output_type": "stream",
       "stream": "stdout",
       "text": [
        "10000 loops, best of 3: 180 \u00b5s per loop\n",
        "1000 loops, best of 3: 1.8 ms per loop"
       ]
      },
      {
       "output_type": "stream",
       "stream": "stdout",
       "text": [
        "\n",
        "3.14063805621\n",
        "3.14149716395\n"
       ]
      }
     ],
     "prompt_number": 2
    },
    {
     "cell_type": "code",
     "collapsed": false,
     "input": [
      "from numba.decorators import autojit\n",
      "\n",
      "@autojit\n",
      "def fast_approx_pi(n):\n",
      "    s = 0\n",
      "    for k in range(1, n+1):\n",
      "        s += 1.0 / k**2\n",
      "    return (6 * s) ** 0.5\n",
      "\n",
      "n = 10000\n",
      "%timeit approx_pi(n)\n",
      "%timeit fast_approx_pi(n)"
     ],
     "language": "python",
     "metadata": {},
     "outputs": [
      {
       "output_type": "stream",
       "stream": "stdout",
       "text": [
        "100 loops, best of 3: 1.89 ms per loop\n",
        "10000 loops, best of 3: 46.6 \u00b5s per loop"
       ]
      },
      {
       "output_type": "stream",
       "stream": "stdout",
       "text": [
        "\n"
       ]
      }
     ],
     "prompt_number": 3
    },
    {
     "cell_type": "code",
     "collapsed": false,
     "input": [
      "from numba import vectorize, float64\n",
      "import numpy as np\n",
      "\n",
      "@vectorize([float64(float64, float64)])\n",
      "def f(x, y):\n",
      "    return x + y\n",
      "\n",
      "a = np.arange(6.)\n",
      "b = f(a, a)\n",
      "print a, b"
     ],
     "language": "python",
     "metadata": {},
     "outputs": [
      {
       "output_type": "stream",
       "stream": "stdout",
       "text": [
        "[ 0.  1.  2.  3.  4.  5.] [  0.   2.   4.   6.   8.  10.]\n"
       ]
      }
     ],
     "prompt_number": 6
    }
   ],
   "metadata": {}
  }
 ]
}