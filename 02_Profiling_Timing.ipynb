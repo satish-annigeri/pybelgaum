{
 "metadata": {
  "name": "",
  "signature": "sha256:225fe6b71c8852f0bd7dd7018042eb78c5444d54768459a7ccd4feaaf7fa61e6"
 },
 "nbformat": 3,
 "nbformat_minor": 0,
 "worksheets": [
  {
   "cells": [
    {
     "cell_type": "markdown",
     "metadata": {},
     "source": [
      "# Functions That We Will Use for Exercise\n",
      "\n",
      "$$\\pi \\approx \\sqrt{6 \\sum_{i=1}^{n} \\frac{1}{i^2}}$$\n",
      "\n",
      "For example, if $n=5$, then\n",
      "\n",
      "$$\\pi \\approx \\sqrt{6 \\left( \\frac{1}{1^2} + \\frac{1}{2^2} + \\frac{1}{3^2} + \\frac{1}{4^2} + \\frac{1}{5^2} \\right)} = 2.9634$$\n",
      "\n",
      "Whereas if $n=100$, then $\\pi \\approx $."
     ]
    },
    {
     "cell_type": "code",
     "collapsed": false,
     "input": [
      "import numpy as np\n",
      "from numpy import pi\n",
      "\n",
      "def approx_pi(n=1000000):\n",
      "    s = 0.0\n",
      "    for k in range(1, n+1):\n",
      "        s += 1.0 / k**2\n",
      "    return (6.0 * s) ** 0.5\n",
      "\n",
      "print approx_pi(100)\n",
      "print approx_pi(1000)\n",
      "print approx_pi(10000)\n",
      "print approx_pi(100000)\n",
      "print approx_pi(1000000)"
     ],
     "language": "python",
     "metadata": {},
     "outputs": [
      {
       "output_type": "stream",
       "stream": "stdout",
       "text": [
        "3.13207653181\n",
        "3.14063805621\n",
        "3.14149716395\n",
        "3.14158310433"
       ]
      },
      {
       "output_type": "stream",
       "stream": "stdout",
       "text": [
        "\n",
        "3.14159169866"
       ]
      },
      {
       "output_type": "stream",
       "stream": "stdout",
       "text": [
        "\n"
       ]
      }
     ],
     "prompt_number": 8
    },
    {
     "cell_type": "markdown",
     "metadata": {},
     "source": [
      "# Timing Function Calls in IPython\n",
      "\n",
      "IPython provides a **magic** function to compute the time taken to execute a function."
     ]
    },
    {
     "cell_type": "code",
     "collapsed": false,
     "input": [
      "def f1(n):\n",
      "    s = 0.0\n",
      "    for k in range(1, n+1):\n",
      "        s += k\n",
      "    return s\n",
      "\n",
      "%timeit f1(100000)"
     ],
     "language": "python",
     "metadata": {},
     "outputs": [
      {
       "output_type": "stream",
       "stream": "stdout",
       "text": [
        "100 loops, best of 3: 7.03 ms per loop\n"
       ]
      }
     ],
     "prompt_number": 5
    },
    {
     "cell_type": "code",
     "collapsed": false,
     "input": [
      "def f2(n):\n",
      "    s = 0.0\n",
      "    for k in xrange(1, n+1):\n",
      "        s += k\n",
      "    return k\n",
      "\n",
      "%timeit f2(100000)"
     ],
     "language": "python",
     "metadata": {},
     "outputs": [
      {
       "output_type": "stream",
       "stream": "stdout",
       "text": [
        "100 loops, best of 3: 6.16 ms per loop\n"
       ]
      }
     ],
     "prompt_number": 4
    },
    {
     "cell_type": "code",
     "collapsed": false,
     "input": [
      "n = 100000\n",
      "%timeit(sum(range(1, n+1)))"
     ],
     "language": "python",
     "metadata": {},
     "outputs": [
      {
       "output_type": "stream",
       "stream": "stdout",
       "text": [
        "100 loops, best of 3: 4.23 ms per loop\n"
       ]
      }
     ],
     "prompt_number": 6
    },
    {
     "cell_type": "code",
     "collapsed": false,
     "input": [
      "n = 100000\n",
      "a = np.array(range(1, n+1), dtype=float)\n",
      "%timeit sum(a)"
     ],
     "language": "python",
     "metadata": {},
     "outputs": [
      {
       "output_type": "stream",
       "stream": "stdout",
       "text": [
        "100 loops, best of 3: 9.76 ms per loop\n"
       ]
      }
     ],
     "prompt_number": 12
    },
    {
     "cell_type": "code",
     "collapsed": false,
     "input": [
      "%timeit approx_pi(10000)"
     ],
     "language": "python",
     "metadata": {},
     "outputs": [
      {
       "output_type": "stream",
       "stream": "stdout",
       "text": [
        "1000 loops, best of 3: 1.26 ms per loop\n"
       ]
      }
     ],
     "prompt_number": 11
    },
    {
     "cell_type": "code",
     "collapsed": false,
     "input": [
      "%timeit approx_pi(1000000)"
     ],
     "language": "python",
     "metadata": {},
     "outputs": [
      {
       "output_type": "stream",
       "stream": "stdout",
       "text": [
        "1 loops, best of 3: 1.55 s per loop\n"
       ]
      }
     ],
     "prompt_number": 16
    },
    {
     "cell_type": "code",
     "collapsed": false,
     "input": [
      "def pi2(n=1000000):\n",
      "    s = 0.0\n",
      "    for k in xrange(1, n+1):\n",
      "        s += 1.0 / k**2\n",
      "    return (6.0 * s) ** 0.5\n",
      "\n",
      "%timeit pi2(1000000)"
     ],
     "language": "python",
     "metadata": {},
     "outputs": [
      {
       "output_type": "stream",
       "stream": "stdout",
       "text": [
        "1 loops, best of 3: 1.53 s per loop\n"
       ]
      }
     ],
     "prompt_number": 15
    },
    {
     "cell_type": "markdown",
     "metadata": {},
     "source": [
      "# Optimizing Code\n",
      "Optimizing a program is an attempt to improve its performance in terms of execution time. Before attempting to optimize your program, be sure that it requires optimizing. So benchmark it and assess its performance before you are sure that it requires optimizing.\n",
      "\n",
      "Donald Knuth is said to have made the following statement:\n",
      "\n",
      "> We should forget about small efficiencies, say about 97% of the time: premature optimization is the root of all evil.\n",
      "\n",
      "**Premature optimization** is a phrase used to describe a situation where a programmer lets performance considerations affect the design of a program. This can result in a program whose design is not as clean as could have been because it is complicated by the optimization and the programmer is distracted by the focus on optimization.\n",
      "\n",
      "Optimization can be carried out at different levels:\n",
      "\n",
      "* **Design Level:** At the highest level, choice of an efficient algorithm will result in better performance\n",
      "* **Source Code Level:** Avoiding poor quality code can result in better performance. Some optimizations are possible at the cost of code readability and maintainability. Some, but not all, source code optimization can usually be performed by the compilers chosen by appropriate switches on the command line. Many compilers are able to improve performance by implementing build level and compile level optimization of the source code\n",
      "* **Run Level:** Just-in-time (JIT) compilers and assemblers may be able to perform run-time optimization exceeding the capability of the static compilers by dynamically adjusting parameters according to the actual input or other factors\n",
      "\n",
      "Before beginning to optimize a program, do the following:\n",
      "\n",
      "* Ensure that it uses an efficient algorithm appropriate to the circumstances under which it is being developed and will be used\n",
      "* Thoroughly test and debug the program, preferably through a suit of automated tests\n",
      "* Benchmark the performance of the program for a wide variety of input data using a suitable profiling mechanism\n",
      "* From the profiling data, identify the parts of the program that when optimized, will substantially improve its performance\n",
      "\n",
      "# Profiling Python Programs\n",
      "\n",
      "Profiling is the process by which it is possible to gather statistics regarding the number of times a function is called, the amount of time the program spends in each function and other similar data. Analysis of profiling data helps in identifying which parts of the program need to be optimized.\n",
      "\n",
      "Python provides two modules for profiling Python programs.\n",
      "\n",
      "* **cProfile** is a C extension with only moderate overhead, making it suitable for profiling long running programs.\n",
      "* **profile** is a pure Python module which is slower than cProfile, but offers the advantage that it can be extended using inheritance\n",
      "\n",
      "Both `profile` and `cProfile` export the same interface, so they are interchangeable. That is, replacing `profile` with `cProfile`, or vice versa does not require any changes to the program being profiled.\n",
      "\n",
      "A program can be profiled in one of two ways:\n",
      "\n",
      "* Including profiling code in a driver program\n",
      "* Profiling from the command line\n",
      "\n",
      "# Including Profiling Code in a Driver Program"
     ]
    },
    {
     "cell_type": "code",
     "collapsed": false,
     "input": [
      "# filename: calc_pi.py\n",
      "\n",
      "def recip_square(i):\n",
      "    return 1.0 / i**2\n",
      "\n",
      "def approx_pi(n=10000000):\n",
      "    s = 0\n",
      "    for k in range(1, n+1):\n",
      "        s += recip_square(k)\n",
      "    return (6 * s) ** 0.5\n",
      "\n",
      "# Driver Program. The lines appearing below could also be written in a separate file\n",
      "# If driver program is separate, it must import the file containing the above two functions\n",
      "if __name__ == '__main__':\n",
      "    # Import Python modules required for profiling and statistics gatering\n",
      "    import cProfile\n",
      "\n",
      "    cProfile.run('approx_pi()')\n",
      "#    cProfile.runctx(\"approx_pi()\", globals(), locals(), \"Profile.prof\")\n",
      "\n",
      "#    s = pstats.Stats(\"Profile.prof\")\n",
      "#    s.strip_dirs().sort_stats(\"time\").print_stats()"
     ],
     "language": "python",
     "metadata": {},
     "outputs": [
      {
       "output_type": "stream",
       "stream": "stdout",
       "text": [
        "         10000004 function calls in 18.512 seconds\n",
        "\n",
        "   Ordered by: standard name\n",
        "\n",
        "   ncalls  tottime  percall  cumtime  percall filename:lineno(function)\n",
        " 10000000   16.315    0.000   16.315    0.000 <ipython-input-1-f194cb5b1112>:3(recip_square)\n",
        "        1    1.967    1.967   18.512   18.512 <ipython-input-1-f194cb5b1112>:6(approx_pi)\n",
        "        1    0.000    0.000   18.512   18.512 <string>:1(<module>)\n",
        "        1    0.000    0.000    0.000    0.000 {method 'disable' of '_lsprof.Profiler' objects}\n",
        "        1    0.231    0.231    0.231    0.231 {range}\n",
        "\n",
        "\n"
       ]
      }
     ],
     "prompt_number": 1
    },
    {
     "cell_type": "markdown",
     "metadata": {},
     "source": [
      "If the results of a profile are to be saved in a file for subsequent processing, the name of the file must be supplied as the second argument to `cProfile.run()`."
     ]
    },
    {
     "cell_type": "code",
     "collapsed": false,
     "input": [
      "if __name__ == '__main__':\n",
      "    cProfile.run('approx_pi()', 'approx_pi.prof')"
     ],
     "language": "python",
     "metadata": {},
     "outputs": [],
     "prompt_number": 2
    },
    {
     "cell_type": "markdown",
     "metadata": {},
     "source": [
      "# Profiling from the Command Line\n",
      "\n",
      "The above results could also be achieved by the following commands from the command line:\n",
      "\n",
      "    $ python -m cProfile calc_pi.py\n",
      "\n",
      "To write profile data to a file named `calc_pi.prof`, use the followingcommand:\n",
      "\n",
      "    $ python -m cProfile -o calc_pi.prof calc_pi.py\n",
      "\n",
      "# Statistics of Profiling Data\n",
      "\n",
      "The advantage of saving profiling data in a file is that it can be processed in a flexible way. Profiling statistics can be processed using the module **pstats** and the class **stats** which provides several methods that enable processing of profiling statistics."
     ]
    },
    {
     "cell_type": "code",
     "collapsed": false,
     "input": [
      "if __name__ == '__main__':\n",
      "    import cProfile, pstats\n",
      "\n",
      "    cProfile.run('approx_pi()', 'calc_pi.prof')\n",
      "    p = pstats.Stats('calc_pi.prof')\n",
      "    p.strip_dirs().sort_stats('time').print_stats()"
     ],
     "language": "python",
     "metadata": {},
     "outputs": [
      {
       "output_type": "stream",
       "stream": "stdout",
       "text": [
        "Tue Feb 24 11:15:24 2015    calc_pi.prof\n",
        "\n",
        "         10000004 function calls in 18.588 seconds\n",
        "\n",
        "   Ordered by: internal time\n",
        "\n",
        "   ncalls  tottime  percall  cumtime  percall filename:lineno(function)\n",
        " 10000000   16.431    0.000   16.431    0.000 <ipython-input-1-f194cb5b1112>:3(recip_square)\n",
        "        1    2.030    2.030   18.588   18.588 <ipython-input-1-f194cb5b1112>:6(approx_pi)\n",
        "        1    0.127    0.127    0.127    0.127 {range}\n",
        "        1    0.000    0.000   18.588   18.588 <string>:1(<module>)\n",
        "        1    0.000    0.000    0.000    0.000 {method 'disable' of '_lsprof.Profiler' objects}\n",
        "\n",
        "\n"
       ]
      }
     ],
     "prompt_number": 3
    },
    {
     "cell_type": "markdown",
     "metadata": {},
     "source": [
      "Some useful methods in **Stats** are listed below:\n",
      "\n",
      "* `strip_dirs()` strips removes extraneous path from all module names\n",
      "* `sort_stats()` sorts the lines according to several criteria, such as, by name of the functions (`name`), time spent within each function (`time`), cumulative time spent in each function (`cumulative`), filename (`file`) or the number of times each function is called (`calls`)\n",
      "* `print_stats()` prints the processed statistics\n",
      "* `print_callers()` prints a list of all functions that called each function in the profiled database\n",
      "* `print_callees()`  prints a list of all functions that were called by the indicated function\n",
      "\n",
      "To use these methods, you must first create an object of type `Stats`, initialising it with the filename containing the saved profiling data. The above example strips path data, sorts by time spent in each function and prints the statistics. It is possible to print the statistics from the command line also, provided the `-o` option is not used.\n",
      "\n",
      "    $ python -m cProfile -s time calc_pi.py\n",
      "\n",
      "# Timing Execution of Python Programs\n",
      "\n",
      "Profiling gives not only the time spent in each of the functions, but also the total time taken by the program. If you only want the execution times without the profiling data, you must use the `timeit` module. It contains the class `Timer` that can execute a specified function and report its execution time. It is possible to specify the number of times the function is to be executed."
     ]
    },
    {
     "cell_type": "code",
     "collapsed": false,
     "input": [
      "# filename: timeit_pi.py\n",
      "\n",
      "from timeit import Timer\n",
      "\n",
      "t = Timer('approx_pi(100000)', 'from __main__ import approx_pi')\n",
      "reps = 5\n",
      "print 'Execution time = %.2f s' % (sum(t.repeat(repeat=reps, number=1)) / reps)"
     ],
     "language": "python",
     "metadata": {},
     "outputs": [
      {
       "output_type": "stream",
       "stream": "stdout",
       "text": [
        "Execution time = 0.11 s\n"
       ]
      }
     ],
     "prompt_number": 13
    },
    {
     "cell_type": "code",
     "collapsed": false,
     "input": [
      "%timeit approx_pi(100000)"
     ],
     "language": "python",
     "metadata": {},
     "outputs": [
      {
       "output_type": "stream",
       "stream": "stdout",
       "text": [
        "10 loops, best of 3: 100 ms per loop\n"
       ]
      }
     ],
     "prompt_number": 14
    },
    {
     "cell_type": "markdown",
     "metadata": {},
     "source": [
      "IPython console gives a handy **magic** command `%timeit` that does the same job as above.\n",
      "\n",
      "    In [10] from calc_pi import approx_pi\n",
      "    In [11] %timeit approx_pi()\n",
      "    1 loops, best of 3: 2.62 s per loop\n",
      "\n",
      "But if you are not using IPython, it is best to use the `timeit` module as described above.\n",
      "\n",
      "# References\n",
      "\n",
      "* [Wikipedia article on Program Optimization](http://en.wikipedia.org/wiki/Program_optimization)\n",
      "\n",
      "# Further Reading\n",
      "* Program optimization\n",
      "* Just in time (JIT) compilers\n",
      "* LLVM\n",
      "* Numba\n",
      "* Julia language\n",
      "\n",
      "# Questions\n",
      "* Why are Python programs slow compared to programs written in C/C++ and Fortran?\n",
      "* What are the different strategies to improve performance of Python programs?\n",
      "* What are the best programming languages for numerical computations when it comes to performance?\n",
      "* What are the issues of writing functions in C/C++ and calling them in Python programs?\n",
      "* What are the goals of Cython project?\n",
      "* What is LLVM?\n",
      "* What are the goals of Numba project?\n",
      "* Compare the Cython and Numba projects and the way they approach optimizing Python programs"
     ]
    }
   ],
   "metadata": {}
  }
 ]
}