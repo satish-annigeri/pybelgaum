{
 "metadata": {
  "name": "",
  "signature": "sha256:c99f61ef55115976c7ee4527a9c475edcbb805da438e53cfd4f815a9cdfece3b"
 },
 "nbformat": 3,
 "nbformat_minor": 0,
 "worksheets": [
  {
   "cells": [
    {
     "cell_type": "markdown",
     "metadata": {},
     "source": [
      "# Scientific Computing\n",
      "\n",
      "Scientific computing involves the following:\n",
      "\n",
      "* **Arrays**, One dimensioned, Two dimensioned, Multi dimensioned\n",
      "* **Numerical methods**\n",
      "* **Data visualization**, plotting graphs in 2D and 3D\n",
      "\n",
      "NumPy does not have array data type in the base language, instead it has List. Lists are versatile but inefficient for numerical computations. Required packages are:\n",
      "\n",
      "* **NumPy** - general n-dimensioned array implementation\n",
      "* **SciPy** - efficient numerical methods\n",
      "* **Matplotlib** - 2D plotting functions similar to graphing functions in MATLAB\n",
      "\n",
      "## Creating arrays\n",
      "\n",
      "* Arrays can be created from **lists** or other container types, such as **tuples**.\n",
      "\n",
      "### Function to create lists\n",
      "\n",
      "* **`range(n)`** - Create a list starting from zero, up to **but not including** **`n`**, incremeting at 1\n",
      "* **`range(n1, n2)`** - Create a list starting from **`n1`**, up to **but not including** **`n2`**, incrementing at 1\n",
      "* **`range(n1, n2, delta)`** - Create a list starting from **`n1`**, up to **but not including** **`n2`**, incrementing at **`delta`**, where **`delta`** is an integer which is positive if **`n1 < n2`** and negative if **`n2 < n1`**."
     ]
    },
    {
     "cell_type": "code",
     "collapsed": false,
     "input": [
      "a = range(10)\n",
      "print a, type(a)"
     ],
     "language": "python",
     "metadata": {},
     "outputs": [
      {
       "output_type": "stream",
       "stream": "stdout",
       "text": [
        "[0, 1, 2, 3, 4, 5, 6, 7, 8, 9] <type 'list'>\n"
       ]
      }
     ],
     "prompt_number": 6
    },
    {
     "cell_type": "code",
     "collapsed": false,
     "input": [
      "b = range(1, 10)\n",
      "print b, type(b)"
     ],
     "language": "python",
     "metadata": {},
     "outputs": [
      {
       "output_type": "stream",
       "stream": "stdout",
       "text": [
        "[1, 2, 3, 4, 5, 6, 7, 8, 9] <type 'list'>\n"
       ]
      }
     ],
     "prompt_number": 7
    },
    {
     "cell_type": "code",
     "collapsed": false,
     "input": [
      "c = range(2, 10, 2)\n",
      "print c, type(c)"
     ],
     "language": "python",
     "metadata": {},
     "outputs": [
      {
       "output_type": "stream",
       "stream": "stdout",
       "text": [
        "[2, 4, 6, 8] <type 'list'>\n"
       ]
      }
     ],
     "prompt_number": 8
    },
    {
     "cell_type": "code",
     "collapsed": false,
     "input": [
      "d = range(10, 0)\n",
      "print d, type(d)"
     ],
     "language": "python",
     "metadata": {},
     "outputs": [
      {
       "output_type": "stream",
       "stream": "stdout",
       "text": [
        "[] <type 'list'>\n"
       ]
      }
     ],
     "prompt_number": 9
    },
    {
     "cell_type": "code",
     "collapsed": false,
     "input": [
      "d = range(10, 0, -2)\n",
      "print d, type(d)"
     ],
     "language": "python",
     "metadata": {},
     "outputs": [
      {
       "output_type": "stream",
       "stream": "stdout",
       "text": [
        "[10, 8, 6, 4, 2] <type 'list'>\n"
       ]
      }
     ],
     "prompt_number": 10
    },
    {
     "cell_type": "markdown",
     "metadata": {},
     "source": [
      "## Creating Arrays\n",
      "\n",
      "## Arrays with equally spaced points\n",
      "\n",
      "* **`arange(n)`** - Similar to **`range()`** but returns an array instead of a list and **`delta`** can be a real number"
     ]
    },
    {
     "cell_type": "code",
     "collapsed": false,
     "input": [
      "from numpy import arange\n",
      "\n",
      "a = arange(5)\n",
      "print a, type(a)"
     ],
     "language": "python",
     "metadata": {},
     "outputs": [
      {
       "output_type": "stream",
       "stream": "stdout",
       "text": [
        "[0 1 2 3 4] <type 'numpy.ndarray'>\n"
       ]
      }
     ],
     "prompt_number": 11
    },
    {
     "cell_type": "code",
     "collapsed": false,
     "input": [
      "b = arange(1, 5)\n",
      "print b, type(b)"
     ],
     "language": "python",
     "metadata": {},
     "outputs": [
      {
       "output_type": "stream",
       "stream": "stdout",
       "text": [
        "[1 2 3 4] <type 'numpy.ndarray'>\n"
       ]
      }
     ],
     "prompt_number": 12
    },
    {
     "cell_type": "code",
     "collapsed": false,
     "input": [
      "c = arange(1, 5, 0.5)\n",
      "print c, type(c)"
     ],
     "language": "python",
     "metadata": {},
     "outputs": [
      {
       "output_type": "stream",
       "stream": "stdout",
       "text": [
        "[ 1.   1.5  2.   2.5  3.   3.5  4.   4.5] <type 'numpy.ndarray'>\n"
       ]
      }
     ],
     "prompt_number": 13
    },
    {
     "cell_type": "code",
     "collapsed": false,
     "input": [
      "d = arange(10, 5)\n",
      "print d, type(d)"
     ],
     "language": "python",
     "metadata": {},
     "outputs": [
      {
       "output_type": "stream",
       "stream": "stdout",
       "text": [
        "[] <type 'numpy.ndarray'>\n"
       ]
      }
     ],
     "prompt_number": 14
    },
    {
     "cell_type": "code",
     "collapsed": false,
     "input": [
      "d = arange(5, 0, -0.5)\n",
      "print d, type(d)"
     ],
     "language": "python",
     "metadata": {},
     "outputs": [
      {
       "output_type": "stream",
       "stream": "stdout",
       "text": [
        "[ 5.   4.5  4.   3.5  3.   2.5  2.   1.5  1.   0.5] <type 'numpy.ndarray'>\n"
       ]
      }
     ],
     "prompt_number": 15
    },
    {
     "cell_type": "markdown",
     "metadata": {},
     "source": [
      "## Linearly spaced points\n",
      "\n",
      "**`linspace(x1, x2, np)`** generates **`np`** data points starting with **`x1`** up to and including **`x2`**. Note, **`np`** is the number of data points and therefore the number of equal intervals is **`n-1`**."
     ]
    },
    {
     "cell_type": "code",
     "collapsed": false,
     "input": [
      "from numpy import linspace\n",
      "\n",
      "a = linspace(0, 5, 11)\n",
      "print a, type(a), a.ndim"
     ],
     "language": "python",
     "metadata": {},
     "outputs": [
      {
       "output_type": "stream",
       "stream": "stdout",
       "text": [
        "[ 0.   0.5  1.   1.5  2.   2.5  3.   3.5  4.   4.5  5. ] <type 'numpy.ndarray'> 1\n"
       ]
      }
     ],
     "prompt_number": 30
    },
    {
     "cell_type": "code",
     "collapsed": false,
     "input": [
      "b = linspace(5, 0, 11)\n",
      "print b, type(b), b.ndim"
     ],
     "language": "python",
     "metadata": {},
     "outputs": [
      {
       "output_type": "stream",
       "stream": "stdout",
       "text": [
        "[ 5.   4.5  4.   3.5  3.   2.5  2.   1.5  1.   0.5  0. ] <type 'numpy.ndarray'> 1\n"
       ]
      }
     ],
     "prompt_number": 29
    },
    {
     "cell_type": "code",
     "collapsed": false,
     "input": [
      "from numpy import pi\n",
      "\n",
      "x = linspace(0, 2*pi, 501)\n",
      "print type(x), x.ndim, x.shape, x.size"
     ],
     "language": "python",
     "metadata": {},
     "outputs": [
      {
       "output_type": "stream",
       "stream": "stdout",
       "text": [
        "<type 'numpy.ndarray'> 1 (501L,) 501\n"
       ]
      }
     ],
     "prompt_number": 28
    },
    {
     "cell_type": "markdown",
     "metadata": {},
     "source": [
      "## Explicit creation of arrays\n",
      "\n",
      "NumPy provides the function **`array()`** to create arrays from lists. Elements of the list are used to populate the elements of the array."
     ]
    },
    {
     "cell_type": "code",
     "collapsed": false,
     "input": [
      "from numpy import array\n",
      "\n",
      "a = array([1, 2, 3, 4, 5])\n",
      "print a, type(a), a.ndim, a.shape, a.size"
     ],
     "language": "python",
     "metadata": {},
     "outputs": [
      {
       "output_type": "stream",
       "stream": "stdout",
       "text": [
        "[1 2 3 4 5] <type 'numpy.ndarray'> 1 (5L,) 5\n"
       ]
      }
     ],
     "prompt_number": 26
    },
    {
     "cell_type": "markdown",
     "metadata": {},
     "source": [
      "To create a two dimensioned array, use a two dimensioned list"
     ]
    },
    {
     "cell_type": "code",
     "collapsed": false,
     "input": [
      "b = array([ [1, 2, 3], [4, 5, 6] ])\n",
      "print b, type(b), b.ndim, b.shape, b.size"
     ],
     "language": "python",
     "metadata": {},
     "outputs": [
      {
       "output_type": "stream",
       "stream": "stdout",
       "text": [
        "[[1 2 3]\n",
        " [4 5 6]] <type 'numpy.ndarray'> 2 (2L, 3L) 6\n"
       ]
      }
     ],
     "prompt_number": 25
    },
    {
     "cell_type": "markdown",
     "metadata": {},
     "source": [
      "## Quick arrays\n",
      "\n",
      "* **`zeros()`** - array with all elements zeros\n",
      "* **`ones()`** - array with all elements ones\n",
      "* **`eye()`** - Identity matrix\n",
      "* **`diag()`** - Matrix with elements in given list on main diagonal or parallel to main diagonal\n",
      "\n",
      "When creating arrays this way, keep in mind the following points:\n",
      "* Size of the array must be specified as a **tuple**\n",
      "* Data type of elements of the array must be specified"
     ]
    },
    {
     "cell_type": "code",
     "collapsed": false,
     "input": [
      "import numpy as np\n",
      "\n",
      "a = np.zeros((3,5), dtype=float)\n",
      "print a, type(a), a.ndim, a.shape, a.size"
     ],
     "language": "python",
     "metadata": {},
     "outputs": [
      {
       "output_type": "stream",
       "stream": "stdout",
       "text": [
        "[[ 0.  0.  0.  0.  0.]\n",
        " [ 0.  0.  0.  0.  0.]\n",
        " [ 0.  0.  0.  0.  0.]] <type 'numpy.ndarray'> 2 (3L, 5L) 15\n"
       ]
      }
     ],
     "prompt_number": 24
    },
    {
     "cell_type": "code",
     "collapsed": false,
     "input": [
      "b = np.ones((5,3), dtype=int)\n",
      "print b, type(b), b.ndim, b.shape, b.size"
     ],
     "language": "python",
     "metadata": {},
     "outputs": [
      {
       "output_type": "stream",
       "stream": "stdout",
       "text": [
        "[[1 1 1]\n",
        " [1 1 1]\n",
        " [1 1 1]\n",
        " [1 1 1]\n",
        " [1 1 1]] <type 'numpy.ndarray'> 2 (5L, 3L) 15\n"
       ]
      }
     ],
     "prompt_number": 23
    },
    {
     "cell_type": "code",
     "collapsed": false,
     "input": [
      "c = np.eye(5, dtype=float)\n",
      "print c, type(c), c.ndim, c.shape, c.size"
     ],
     "language": "python",
     "metadata": {},
     "outputs": [
      {
       "output_type": "stream",
       "stream": "stdout",
       "text": [
        "[[ 1.  0.  0.  0.  0.]\n",
        " [ 0.  1.  0.  0.  0.]\n",
        " [ 0.  0.  1.  0.  0.]\n",
        " [ 0.  0.  0.  1.  0.]\n",
        " [ 0.  0.  0.  0.  1.]] <type 'numpy.ndarray'> 2 (5L, 5L) 25\n"
       ]
      }
     ],
     "prompt_number": 33
    },
    {
     "cell_type": "code",
     "collapsed": false,
     "input": [
      "d = np.diag([10, 20, 30])\n",
      "print d, type(d), d.ndim, d.shape, d.size, d.dtype"
     ],
     "language": "python",
     "metadata": {},
     "outputs": [
      {
       "output_type": "stream",
       "stream": "stdout",
       "text": [
        "[[10  0  0]\n",
        " [ 0 20  0]\n",
        " [ 0  0 30]] <type 'numpy.ndarray'> 2 (3L, 3L) 9 int32"
       ]
      },
      {
       "output_type": "stream",
       "stream": "stdout",
       "text": [
        "\n"
       ]
      }
     ],
     "prompt_number": 36
    },
    {
     "cell_type": "code",
     "collapsed": false,
     "input": [
      "x = np.diag([1.0, 2.0, 3.0])\n",
      "print x, type(x), x.ndim, x.shape, x.size, x.dtype"
     ],
     "language": "python",
     "metadata": {},
     "outputs": [
      {
       "output_type": "stream",
       "stream": "stdout",
       "text": [
        "[[ 1.  0.  0.]\n",
        " [ 0.  2.  0.]\n",
        " [ 0.  0.  3.]] <type 'numpy.ndarray'> 2 (3L, 3L) 9 float64\n"
       ]
      }
     ],
     "prompt_number": 38
    },
    {
     "cell_type": "code",
     "collapsed": false,
     "input": [
      "y = np.diag([10, 20, 30], 1)\n",
      "print y"
     ],
     "language": "python",
     "metadata": {},
     "outputs": [
      {
       "output_type": "stream",
       "stream": "stdout",
       "text": [
        "[[ 0 10  0  0]\n",
        " [ 0  0 20  0]\n",
        " [ 0  0  0 30]\n",
        " [ 0  0  0  0]]\n"
       ]
      }
     ],
     "prompt_number": 39
    },
    {
     "cell_type": "code",
     "collapsed": false,
     "input": [
      "z = np.diag([10, 20, 30], -1)\n",
      "print z"
     ],
     "language": "python",
     "metadata": {},
     "outputs": [
      {
       "output_type": "stream",
       "stream": "stdout",
       "text": [
        "[[ 0  0  0  0]\n",
        " [10  0  0  0]\n",
        " [ 0 20  0  0]\n",
        " [ 0  0 30  0]]\n"
       ]
      }
     ],
     "prompt_number": 40
    },
    {
     "cell_type": "code",
     "collapsed": false,
     "input": [
      "\n",
      "a = np.random.rand(3,5)\n",
      "print a"
     ],
     "language": "python",
     "metadata": {},
     "outputs": [
      {
       "output_type": "stream",
       "stream": "stdout",
       "text": [
        "[[ 0.61796239  0.39098602  0.95341177  0.80097304  0.54483242]\n",
        " [ 0.25558882  0.43318433  0.01632538  0.07711708  0.52475042]\n",
        " [ 0.72077313  0.0979766   0.60560629  0.98777067  0.23535754]]\n"
       ]
      }
     ],
     "prompt_number": 41
    },
    {
     "cell_type": "code",
     "collapsed": false,
     "input": [
      "b = np.random.rand(5, 3) * 10 + 1\n",
      "print b"
     ],
     "language": "python",
     "metadata": {},
     "outputs": [
      {
       "output_type": "stream",
       "stream": "stdout",
       "text": [
        "[[  9.51932231   5.26435072   3.28525321]\n",
        " [  2.7124577    1.21006659   5.38091557]\n",
        " [  9.16063517   9.83342021   4.22385435]\n",
        " [  8.97114143   6.55332684   1.23055457]\n",
        " [  6.3158913   10.36883603   8.50700591]]\n"
       ]
      }
     ],
     "prompt_number": 42
    },
    {
     "cell_type": "markdown",
     "metadata": {},
     "source": [
      "## Common Operations on Arrays"
     ]
    },
    {
     "cell_type": "code",
     "collapsed": false,
     "input": [
      "a = np.array([ [1, 2, 3], [4, 5, 6], [7, 8, 9]])\n",
      "b = np.array([ [2, 4, 6], [8, 10, 12], [14, 16, 18] ])\n",
      "c = a + b\n",
      "print b"
     ],
     "language": "python",
     "metadata": {},
     "outputs": [
      {
       "output_type": "stream",
       "stream": "stdout",
       "text": [
        "[[ 2  4  6]\n",
        " [ 8 10 12]\n",
        " [14 16 18]]\n"
       ]
      }
     ],
     "prompt_number": 43
    },
    {
     "cell_type": "code",
     "collapsed": false,
     "input": [
      "d = a * b\n",
      "print d"
     ],
     "language": "python",
     "metadata": {},
     "outputs": [
      {
       "output_type": "stream",
       "stream": "stdout",
       "text": [
        "[[  2   8  18]\n",
        " [ 32  50  72]\n",
        " [ 98 128 162]]\n"
       ]
      }
     ],
     "prompt_number": 44
    },
    {
     "cell_type": "code",
     "collapsed": false,
     "input": [
      "x = 2 * a\n",
      "print x"
     ],
     "language": "python",
     "metadata": {},
     "outputs": [
      {
       "output_type": "stream",
       "stream": "stdout",
       "text": [
        "[[ 2  4  6]\n",
        " [ 8 10 12]\n",
        " [14 16 18]]\n"
       ]
      }
     ],
     "prompt_number": 45
    },
    {
     "cell_type": "code",
     "collapsed": false,
     "input": [
      "y = 10 * a - 2 * b\n",
      "print y"
     ],
     "language": "python",
     "metadata": {},
     "outputs": [
      {
       "output_type": "stream",
       "stream": "stdout",
       "text": [
        "[[ 6 12 18]\n",
        " [24 30 36]\n",
        " [42 48 54]]\n"
       ]
      }
     ],
     "prompt_number": 46
    },
    {
     "cell_type": "code",
     "collapsed": false,
     "input": [
      "from matplotlib import pyplot as plt\n",
      "%matplotlib inline\n",
      "\n",
      "x = np.linspace(0, 2*np.pi, 501)\n",
      "y1 = np.sin(x)\n",
      "y2 = np.cos(x)\n",
      "\n",
      "plt.plot(x, y1, label='sin(x)')\n",
      "plt.plot(x, y2, label='cos(x)')\n",
      "plt.grid()\n",
      "plt.xlabel('x')\n",
      "plt.ylabel('y')\n",
      "plt.title('Harmonic function')\n",
      "plt.legend(loc=3)\n",
      "plt.show()"
     ],
     "language": "python",
     "metadata": {},
     "outputs": [
      {
       "metadata": {},
       "output_type": "display_data",
       "png": "[encoded data removed]",
       "text": [
        "<matplotlib.figure.Figure at 0xb9f0e10>"
       ]
      }
     ],
     "prompt_number": 52
    },
    {
     "cell_type": "markdown",
     "metadata": {},
     "source": [
      "## Linear Algebra\n",
      "\n",
      "* Solve linear algebraic equations\n",
      "* Find determinant, eigenvalues, eigenvectors\n",
      "* LU decomposition\n",
      "* Norm, rank"
     ]
    },
    {
     "cell_type": "code",
     "collapsed": false,
     "input": [
      "a = np.array([ [10, 3, -4], [2, 8, -1], [3, 5, -9] ], dtype=float)\n",
      "b = np.array([25, -20, 30], dtype=float)\n",
      "x = np.linalg.solve(a, b)\n",
      "print x"
     ],
     "language": "python",
     "metadata": {},
     "outputs": [
      {
       "output_type": "stream",
       "stream": "stdout",
       "text": [
        "[ 1.66080844 -3.50615114 -4.72759227]\n"
       ]
      }
     ],
     "prompt_number": 53
    },
    {
     "cell_type": "code",
     "collapsed": false,
     "input": [
      "print np.dot(a, x) - b"
     ],
     "language": "python",
     "metadata": {},
     "outputs": [
      {
       "output_type": "stream",
       "stream": "stdout",
       "text": [
        "[  0.00000000e+00   3.55271368e-15  -1.06581410e-14]\n"
       ]
      }
     ],
     "prompt_number": 54
    },
    {
     "cell_type": "code",
     "collapsed": false,
     "input": [
      "print np.linalg.det(a)"
     ],
     "language": "python",
     "metadata": {},
     "outputs": [
      {
       "output_type": "stream",
       "stream": "stdout",
       "text": [
        "-569.0\n"
       ]
      }
     ],
     "prompt_number": 56
    },
    {
     "cell_type": "code",
     "collapsed": false,
     "input": [
      "print np.linalg.norm(a)"
     ],
     "language": "python",
     "metadata": {},
     "outputs": [
      {
       "output_type": "stream",
       "stream": "stdout",
       "text": [
        "17.5783958312\n"
       ]
      }
     ],
     "prompt_number": 58
    },
    {
     "cell_type": "code",
     "collapsed": false,
     "input": [
      "w, X = np.linalg.eig(a)\n",
      "print w\n",
      "print X"
     ],
     "language": "python",
     "metadata": {},
     "outputs": [
      {
       "output_type": "stream",
       "stream": "stdout",
       "text": [
        "[ 10.65003706   6.53077508  -8.18081215]\n",
        "[[-0.81556075 -0.52860832  0.20930797]\n",
        " [-0.51871719  0.83249528  0.03452387]\n",
        " [-0.25650172  0.16590617  0.97724013]]\n"
       ]
      }
     ],
     "prompt_number": 60
    },
    {
     "cell_type": "code",
     "collapsed": false,
     "input": [],
     "language": "python",
     "metadata": {},
     "outputs": []
    }
   ],
   "metadata": {}
  }
 ]
}